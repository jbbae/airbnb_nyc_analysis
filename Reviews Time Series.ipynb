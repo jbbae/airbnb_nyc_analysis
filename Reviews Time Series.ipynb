{
 "cells": [
  {
   "cell_type": "code",
   "execution_count": 1,
   "metadata": {},
   "outputs": [
    {
     "data": {
      "text/html": [
       "<div>\n",
       "<style scoped>\n",
       "    .dataframe tbody tr th:only-of-type {\n",
       "        vertical-align: middle;\n",
       "    }\n",
       "\n",
       "    .dataframe tbody tr th {\n",
       "        vertical-align: top;\n",
       "    }\n",
       "\n",
       "    .dataframe thead th {\n",
       "        text-align: right;\n",
       "    }\n",
       "</style>\n",
       "<table border=\"1\" class=\"dataframe\">\n",
       "  <thead>\n",
       "    <tr style=\"text-align: right;\">\n",
       "      <th></th>\n",
       "      <th>listing_id</th>\n",
       "      <th>date</th>\n",
       "    </tr>\n",
       "  </thead>\n",
       "  <tbody>\n",
       "    <tr>\n",
       "      <th>0</th>\n",
       "      <td>2515</td>\n",
       "      <td>2008-10-13</td>\n",
       "    </tr>\n",
       "    <tr>\n",
       "      <th>1</th>\n",
       "      <td>2515</td>\n",
       "      <td>2009-03-08</td>\n",
       "    </tr>\n",
       "    <tr>\n",
       "      <th>2</th>\n",
       "      <td>2515</td>\n",
       "      <td>2009-03-25</td>\n",
       "    </tr>\n",
       "    <tr>\n",
       "      <th>3</th>\n",
       "      <td>2515</td>\n",
       "      <td>2009-03-27</td>\n",
       "    </tr>\n",
       "    <tr>\n",
       "      <th>4</th>\n",
       "      <td>2515</td>\n",
       "      <td>2009-05-09</td>\n",
       "    </tr>\n",
       "  </tbody>\n",
       "</table>\n",
       "</div>"
      ],
      "text/plain": [
       "   listing_id        date\n",
       "0        2515  2008-10-13\n",
       "1        2515  2009-03-08\n",
       "2        2515  2009-03-25\n",
       "3        2515  2009-03-27\n",
       "4        2515  2009-05-09"
      ]
     },
     "execution_count": 1,
     "metadata": {},
     "output_type": "execute_result"
    }
   ],
   "source": [
    "import numpy as np\n",
    "import pandas as pd\n",
    "import matplotlib.pyplot as plt\n",
    "from sklearn.linear_model import LinearRegression\n",
    "from sklearn.preprocessing import PolynomialFeatures\n",
    "from sklearn.model_selection import train_test_split\n",
    "from sklearn.metrics import r2_score, mean_squared_error\n",
    "import seaborn as sns\n",
    "%matplotlib inline\n",
    "\n",
    "df_samp = pd.read_csv('./data/reviews/reviews_01_2019.csv')\n",
    "df_samp.head()"
   ]
  },
  {
   "cell_type": "code",
   "execution_count": 2,
   "metadata": {},
   "outputs": [
    {
     "data": {
      "text/html": [
       "<div>\n",
       "<style scoped>\n",
       "    .dataframe tbody tr th:only-of-type {\n",
       "        vertical-align: middle;\n",
       "    }\n",
       "\n",
       "    .dataframe tbody tr th {\n",
       "        vertical-align: top;\n",
       "    }\n",
       "\n",
       "    .dataframe thead th {\n",
       "        text-align: right;\n",
       "    }\n",
       "</style>\n",
       "<table border=\"1\" class=\"dataframe\">\n",
       "  <thead>\n",
       "    <tr style=\"text-align: right;\">\n",
       "      <th></th>\n",
       "      <th>year</th>\n",
       "      <th>month</th>\n",
       "      <th>listing_id</th>\n",
       "      <th>count</th>\n",
       "    </tr>\n",
       "  </thead>\n",
       "  <tbody>\n",
       "    <tr>\n",
       "      <th>0</th>\n",
       "      <td>2008</td>\n",
       "      <td>10</td>\n",
       "      <td>2515</td>\n",
       "      <td>1</td>\n",
       "    </tr>\n",
       "    <tr>\n",
       "      <th>1</th>\n",
       "      <td>2009</td>\n",
       "      <td>3</td>\n",
       "      <td>2515</td>\n",
       "      <td>3</td>\n",
       "    </tr>\n",
       "    <tr>\n",
       "      <th>2</th>\n",
       "      <td>2009</td>\n",
       "      <td>3</td>\n",
       "      <td>5441</td>\n",
       "      <td>1</td>\n",
       "    </tr>\n",
       "    <tr>\n",
       "      <th>3</th>\n",
       "      <td>2009</td>\n",
       "      <td>4</td>\n",
       "      <td>5099</td>\n",
       "      <td>1</td>\n",
       "    </tr>\n",
       "    <tr>\n",
       "      <th>4</th>\n",
       "      <td>2009</td>\n",
       "      <td>4</td>\n",
       "      <td>5216</td>\n",
       "      <td>1</td>\n",
       "    </tr>\n",
       "  </tbody>\n",
       "</table>\n",
       "</div>"
      ],
      "text/plain": [
       "   year  month  listing_id  count\n",
       "0  2008     10        2515      1\n",
       "1  2009      3        2515      3\n",
       "2  2009      3        5441      1\n",
       "3  2009      4        5099      1\n",
       "4  2009      4        5216      1"
      ]
     },
     "execution_count": 2,
     "metadata": {},
     "output_type": "execute_result"
    }
   ],
   "source": [
    "df_samp['date'] = pd.to_datetime(df_samp['date'], yearfirst=True)\n",
    "df_samp['year'] = df_samp['date'].dt.year\n",
    "df_samp['month'] = df_samp['date'].dt.month\n",
    "\n",
    "df_samp2 = df_samp.groupby(['year','month','listing_id']).size().reset_index()\n",
    "df_samp2.rename({0: 'count'}, axis=1, inplace=True)\n",
    "\n",
    "df_samp2.head()"
   ]
  },
  {
   "cell_type": "code",
   "execution_count": 3,
   "metadata": {},
   "outputs": [
    {
     "data": {
      "text/plain": [
       "array([ 1,  3,  2,  4,  7,  9,  5,  8,  6, 10, 11, 14, 13, 12, 15, 17, 19,\n",
       "       16, 18, 24, 20, 21, 22, 23, 25], dtype=int64)"
      ]
     },
     "execution_count": 3,
     "metadata": {},
     "output_type": "execute_result"
    }
   ],
   "source": [
    "df_samp2['count'].unique()"
   ]
  },
  {
   "cell_type": "code",
   "execution_count": 13,
   "metadata": {},
   "outputs": [
    {
     "data": {
      "text/plain": [
       "(array([3.17146e+05, 7.36970e+04, 2.93710e+04, 3.97900e+03, 1.40600e+03,\n",
       "        6.57000e+02, 1.75000e+02, 1.08000e+02, 3.90000e+01, 1.30000e+01]),\n",
       " array([ 1. ,  3.4,  5.8,  8.2, 10.6, 13. , 15.4, 17.8, 20.2, 22.6, 25. ]),\n",
       " <a list of 10 Patch objects>)"
      ]
     },
     "execution_count": 13,
     "metadata": {},
     "output_type": "execute_result"
    },
    {
     "data": {
      "image/png": "[encoded data removed]",
      "text/plain": [
       "<Figure size 432x288 with 1 Axes>"
      ]
     },
     "metadata": {
      "needs_background": "light"
     },
     "output_type": "display_data"
    }
   ],
   "source": [
    "plt.hist(df_samp2['count'])"
   ]
  },
  {
   "cell_type": "code",
   "execution_count": 25,
   "metadata": {},
   "outputs": [
    {
     "name": "stdout",
     "output_type": "stream",
     "text": [
      "        month  listing_id    year  count\n",
      "1           1        2595  2018.5    1.0\n",
      "32635       4        2595  2018.0    1.0\n",
      "44686       5        2595  2018.0    2.0\n",
      "58548       6        2595  2018.0    2.0\n",
      "101308      9        2595  2018.0    1.0\n",
      "118343     10        2595  2018.0    3.0\n",
      "135707     11        2595  2018.0    2.0\n",
      "152175     12        2595  2018.0    2.0\n"
     ]
    }
   ],
   "source": [
    "df_samp3 = df_samp2[(df_samp2.year == 2018) | (df_samp2.year == 2019)]\n",
    "\n",
    "# df_samp3['monthly_availability'] = df_samp3['count']/30\n",
    "# df_samp3 = df_samp3.groupby(['month','listing_id']).size().reset_index()\n",
    "\n",
    "# df_samp3 = df_samp3.groupby(['month', 'listing_id'], as_index=False).mean().groupby('month')['monthly_availability'].mean().reset_index()\n",
    "df_samp3 = df_samp3.groupby(['month', 'listing_id'], as_index=False).mean()\n",
    "print(df_samp3[df_samp3['listing_id'] == 2595])"
   ]
  },
  {
   "cell_type": "code",
   "execution_count": 29,
   "metadata": {},
   "outputs": [
    {
     "name": "stdout",
     "output_type": "stream",
     "text": [
      "skipped\n",
      "skipped\n",
      "skipped\n",
      "skipped\n",
      "              year  month     count\n",
      "date                               \n",
      "2015-01-01  2015.0    1.0  277659.0\n",
      "2015-03-01  2015.0    3.0  280557.0\n",
      "2015-05-01  2015.0    5.0  298181.0\n",
      "2015-06-01  2015.0    6.0  316825.0\n",
      "2015-08-01  2015.0    8.0  352328.0\n",
      "(50, 3)\n"
     ]
    }
   ],
   "source": [
    "skipList = {\n",
    "    2015: {\n",
    "        2: True,\n",
    "        4: True,\n",
    "        7: True\n",
    "    },\n",
    "    2016: {\n",
    "        3: True\n",
    "    },\n",
    "    2019: {\n",
    "        7: True,\n",
    "        8: True,\n",
    "        9: True,\n",
    "        10: True,\n",
    "        11: True,\n",
    "        12: True\n",
    "    },\n",
    "}\n",
    "\n",
    "reviews_df = pd.DataFrame({\n",
    "    \"date\": [],\n",
    "    \"year\": [],\n",
    "    \"month\": [],\n",
    "    \"count\": []\n",
    "})\n",
    "\n",
    "for yr in range(2015, 2020):\n",
    "    for mo in range(1,13):\n",
    "        if yr == 2019 and mo > 6:\n",
    "            break\n",
    "        elif yr in skipList and mo in skipList[yr]:\n",
    "            # do nothing\n",
    "            print('skipped')\n",
    "        else:\n",
    "            zeroStr = '0' if mo < 10 else ''\n",
    "            df_rev = pd.read_csv('./data/reviews/reviews' + '_' + zeroStr + str(mo) + '_' + str(yr) + '.csv')\n",
    "            \n",
    "            dateObj = pd.to_datetime('1/'+str(mo)+'/'+str(yr), dayfirst=True)\n",
    "    \n",
    "            df_temp = pd.DataFrame({\n",
    "                \"date\": [dateObj],\n",
    "                \"year\": [dateObj.year],\n",
    "                \"month\": [dateObj.month],\n",
    "                \"count\": df_rev.shape[0]\n",
    "            })\n",
    "            \n",
    "            reviews_df = reviews_df.append(df_temp)\n",
    "\n",
    "reviews_df = reviews_df.set_index(\"date\")\n",
    "\n",
    "print(reviews_df.head())\n",
    "print(reviews_df.shape)"
   ]
  },
  {
   "cell_type": "code",
   "execution_count": 30,
   "metadata": {},
   "outputs": [],
   "source": [
    "sns.set(rc={'figure.figsize': (11,4)})"
   ]
  },
  {
   "cell_type": "code",
   "execution_count": 31,
   "metadata": {},
   "outputs": [
    {
     "data": {
      "image/png": "[encoded data removed]",
      "text/plain": [
       "<Figure size 792x288 with 1 Axes>"
      ]
     },
     "metadata": {},
     "output_type": "display_data"
    }
   ],
   "source": [
    "reviews_df['count'].plot(linewidth=2);\n",
    "plt.title(\"Total Reviews, NYC\")\n",
    "plt.savefig(\"total_reviews_time.png\")"
   ]
  },
  {
   "cell_type": "code",
   "execution_count": null,
   "metadata": {},
   "outputs": [],
   "source": []
  }
 ],
 "metadata": {
  "kernelspec": {
   "display_name": "Python 3",
   "language": "python",
   "name": "python3"
  },
  "language_info": {
   "codemirror_mode": {
    "name": "ipython",
    "version": 3
   },
   "file_extension": ".py",
   "mimetype": "text/x-python",
   "name": "python",
   "nbconvert_exporter": "python",
   "pygments_lexer": "ipython3",
   "version": "3.6.8"
  }
 },
 "nbformat": 4,
 "nbformat_minor": 2
}
