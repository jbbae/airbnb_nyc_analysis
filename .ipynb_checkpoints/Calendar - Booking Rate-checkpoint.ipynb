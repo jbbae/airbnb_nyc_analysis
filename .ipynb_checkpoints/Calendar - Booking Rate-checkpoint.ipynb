{
 "cells": [
  {
   "cell_type": "code",
   "execution_count": 1,
   "metadata": {},
   "outputs": [],
   "source": [
    "import numpy as np\n",
    "import pandas as pd\n",
    "import matplotlib.pyplot as plt\n",
    "from sklearn.linear_model import LinearRegression\n",
    "from sklearn.preprocessing import PolynomialFeatures\n",
    "from sklearn.model_selection import train_test_split\n",
    "from sklearn.metrics import r2_score, mean_squared_error\n",
    "import seaborn as sns\n",
    "%matplotlib inline"
   ]
  },
  {
   "cell_type": "code",
   "execution_count": 2,
   "metadata": {},
   "outputs": [
    {
     "name": "stdout",
     "output_type": "stream",
     "text": [
      "skipped 2018 month: 1\n",
      "skipped 2018 month: 2\n",
      "skipped 2018 month: 3\n",
      "skipped 2018 month: 4\n",
      "skipped 2018 month: 5\n",
      "skipped 2018 month: 6\n"
     ]
    },
    {
     "name": "stderr",
     "output_type": "stream",
     "text": [
      "C:\\Users\\nickb\\Anaconda3\\lib\\site-packages\\pandas\\core\\frame.py:6692: FutureWarning: Sorting because non-concatenation axis is not aligned. A future version\n",
      "of pandas will change to not sort by default.\n",
      "\n",
      "To accept the future behavior, pass 'sort=False'.\n",
      "\n",
      "To retain the current behavior and silence the warning, pass 'sort=True'.\n",
      "\n",
      "  sort=sort)\n"
     ]
    },
    {
     "name": "stdout",
     "output_type": "stream",
     "text": [
      "            booked  listing_id  month  perc_booked  unbooked    year\n",
      "date                                                                \n",
      "2018-07-01    17.0         NaN    7.0     0.548387      14.0  2018.0\n",
      "2018-07-01     0.0         NaN    7.0     0.000000      31.0  2018.0\n",
      "2018-07-01     0.0         NaN    7.0     0.000000      31.0  2018.0\n",
      "2018-07-01    23.0         NaN    7.0     0.741935       8.0  2018.0\n",
      "2018-07-01     0.0         NaN    7.0     0.000000      31.0  2018.0\n",
      "(596950, 6)\n"
     ]
    }
   ],
   "source": [
    "listing_df = pd.DataFrame({\n",
    "    \"listing_id\": [],\n",
    "    \"booked\": [],\n",
    "    \"unbooked\": [],\n",
    "    \"perc_booked\": [],\n",
    "    \"date\": [],\n",
    "    \"year\": [],\n",
    "    \"month\": []\n",
    "})\n",
    "\n",
    "for yr in range(2018, 2020):\n",
    "    for mo in range(1,13):\n",
    "        if yr == 2019 and mo > 6:\n",
    "            break\n",
    "        elif yr == 2018 and mo < 7:\n",
    "            # do nothing\n",
    "            print('skipped 2018 month: ' + str(mo))\n",
    "        else:\n",
    "            zeroStr = '0' if mo < 10 else ''\n",
    "            fileName = './data/calendars/calendar' + '_' + zeroStr + str(mo) + '_' + str(yr) + '.csv.gz'\n",
    "            df_cal = pd.read_csv(fileName, compression='gzip', header=0, sep=',', quotechar='\"')\n",
    "            \n",
    "            df_cal['date'] = pd.to_datetime(df_cal['date'])\n",
    "            df_cal['month'] = df_cal['date'].dt.month\n",
    "            df_cal = df_cal[df_cal['month'] == mo ]\n",
    "            \n",
    "            dateObj = pd.to_datetime('1/'+str(mo)+'/'+str(yr), dayfirst=True)\n",
    "            \n",
    "#             df_temp = df_cal[df_cal['available'] == 'f'].groupby(['listing_id']).size()\n",
    "#             df_temp['unbooked'] = df_cal[df_cal['available'] == 't'].groupby(['listing_id']).size()['unbooked']\n",
    "            \n",
    "            df_temp = df_cal.groupby('listing_id')['available'].value_counts().unstack().fillna(0)\n",
    "            \n",
    "            df_temp.rename(columns={'f': 'booked', 't': 'unbooked'}, inplace=True)\n",
    "            \n",
    "#             print(df_temp.head())\n",
    "            \n",
    "            df_temp['perc_booked'] = df_temp['booked'] / (df_temp['booked'] + df_temp['unbooked'])\n",
    "            \n",
    "            df_temp[\"date\"] = dateObj\n",
    "            df_temp[\"year\"] = dateObj.year\n",
    "            df_temp[\"month\"] = dateObj.month\n",
    "            \n",
    "            listing_df = listing_df.append(df_temp)\n",
    "\n",
    "listing_df = listing_df.set_index(\"date\")\n",
    "\n",
    "print(listing_df.head())\n",
    "print(listing_df.shape)"
   ]
  },
  {
   "cell_type": "code",
   "execution_count": 3,
   "metadata": {},
   "outputs": [
    {
     "data": {
      "text/plain": [
       "array([nan])"
      ]
     },
     "execution_count": 3,
     "metadata": {},
     "output_type": "execute_result"
    }
   ],
   "source": []
  },
  {
   "cell_type": "code",
   "execution_count": null,
   "metadata": {},
   "outputs": [],
   "source": [
    "sns.set(rc={'figure.figsize': (11,4)})"
   ]
  },
  {
   "cell_type": "code",
   "execution_count": null,
   "metadata": {},
   "outputs": [],
   "source": [
    "listing_df['NYC'].plot(linewidth=2);\n",
    "plt.title(\"Total Listings, NYC\")\n",
    "plt.savefig(\"total_listings_time.png\")"
   ]
  },
  {
   "cell_type": "code",
   "execution_count": null,
   "metadata": {},
   "outputs": [],
   "source": [
    "listing_df[['Manhattan','Brooklyn', 'Queens', 'Bronx', 'Staten Island']].plot(linewidth=2);\n",
    "plt.title(\"Total Listings, by neighborhood group\")\n",
    "plt.savefig(\"region_listings_time.png\")"
   ]
  },
  {
   "cell_type": "code",
   "execution_count": null,
   "metadata": {},
   "outputs": [],
   "source": []
  }
 ],
 "metadata": {
  "kernelspec": {
   "display_name": "Python 3",
   "language": "python",
   "name": "python3"
  },
  "language_info": {
   "codemirror_mode": {
    "name": "ipython",
    "version": 3
   },
   "file_extension": ".py",
   "mimetype": "text/x-python",
   "name": "python",
   "nbconvert_exporter": "python",
   "pygments_lexer": "ipython3",
   "version": "3.6.8"
  }
 },
 "nbformat": 4,
 "nbformat_minor": 2
}
